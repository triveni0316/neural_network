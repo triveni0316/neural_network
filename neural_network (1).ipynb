{
  "nbformat": 4,
  "nbformat_minor": 0,
  "metadata": {
    "colab": {
      "provenance": [],
      "authorship_tag": "ABX9TyM598Ks6Gvod8CguidsZWIt",
      "include_colab_link": true
    },
    "kernelspec": {
      "name": "python3",
      "display_name": "Python 3"
    },
    "language_info": {
      "name": "python"
    }
  },
  "cells": [
    {
      "cell_type": "markdown",
      "metadata": {
        "id": "view-in-github",
        "colab_type": "text"
      },
      "source": [
        "<a href=\"https://colab.research.google.com/github/triveni0316/Projects/blob/main/neural_network.ipynb\" target=\"_parent\"><img src=\"https://colab.research.google.com/assets/colab-badge.svg\" alt=\"Open In Colab\"/></a>"
      ]
    },
    {
      "cell_type": "code",
      "execution_count": 81,
      "metadata": {
        "id": "0zDe4-bfbyLd"
      },
      "outputs": [],
      "source": [
        "import numpy as np"
      ]
    },
    {
      "cell_type": "code",
      "source": [
        "#assigning input values\n",
        "input_value = np.array([[0,0],[0,1],[1,1],[1,0]])\n",
        "input_value.shape\n",
        "input_value"
      ],
      "metadata": {
        "colab": {
          "base_uri": "https://localhost:8080/"
        },
        "id": "32PrArt7b4Po",
        "outputId": "325a51cf-9aa3-4981-f014-0b3cdea0d7c6"
      },
      "execution_count": 82,
      "outputs": [
        {
          "output_type": "execute_result",
          "data": {
            "text/plain": [
              "array([[0, 0],\n",
              "       [0, 1],\n",
              "       [1, 1],\n",
              "       [1, 0]])"
            ]
          },
          "metadata": {},
          "execution_count": 82
        }
      ]
    },
    {
      "cell_type": "code",
      "source": [
        "#assigning output values\n",
        "output = np.array([0,1,1,0])\n",
        "output = output.reshape(4,1)\n",
        "output.shape"
      ],
      "metadata": {
        "colab": {
          "base_uri": "https://localhost:8080/"
        },
        "id": "Pn5ml3BocbFT",
        "outputId": "032e23bf-c6b6-4ec3-f3de-7c3754e2b8a8"
      },
      "execution_count": 83,
      "outputs": [
        {
          "output_type": "execute_result",
          "data": {
            "text/plain": [
              "(4, 1)"
            ]
          },
          "metadata": {},
          "execution_count": 83
        }
      ]
    },
    {
      "cell_type": "code",
      "source": [
        "#assign weights\n",
        "weight = np.array([[0.1],[0.2]])\n",
        "weight"
      ],
      "metadata": {
        "colab": {
          "base_uri": "https://localhost:8080/"
        },
        "id": "9e9Boui4dYts",
        "outputId": "fb83a482-be64-4049-83fd-fbef42a98eff"
      },
      "execution_count": 84,
      "outputs": [
        {
          "output_type": "execute_result",
          "data": {
            "text/plain": [
              "array([[0.1],\n",
              "       [0.2]])"
            ]
          },
          "metadata": {},
          "execution_count": 84
        }
      ]
    },
    {
      "cell_type": "code",
      "source": [
        "#adding bias\n",
        "bias = 0.3"
      ],
      "metadata": {
        "id": "YfdsF00veNPE"
      },
      "execution_count": 85,
      "outputs": []
    },
    {
      "cell_type": "code",
      "source": [
        "#activation function\n",
        "def sigmoid_function(x):\n",
        "  return 1/(1 + np.exp(-x))"
      ],
      "metadata": {
        "id": "M_26CQkNeYQR"
      },
      "execution_count": 86,
      "outputs": []
    },
    {
      "cell_type": "code",
      "source": [
        "#derivative of sigmoid function\n",
        "def der(x):\n",
        "  return sigmoid_function(x) * (1- sigmoid_function(x))"
      ],
      "metadata": {
        "id": "0hPJpvh_gbqY"
      },
      "execution_count": 87,
      "outputs": []
    },
    {
      "cell_type": "code",
      "source": [
        "#updating weights\n",
        "for epochs in range(10000):\n",
        "  input_arr = input_value\n",
        "\n",
        "  weighted_sum = np.dot(input_arr, weight)+bias\n",
        "  first_output = sigmoid_function(weighted_sum)\n",
        "\n",
        "  error = first_output-output\n",
        "  total_error = np.square(np.subtract(first_output, output)).mean()\n",
        "  #print(total_error)\n",
        "\n",
        "  first_der = error\n",
        "  second_der = der(first_output)\n",
        "  derivative = first_der * second_der\n",
        "\n",
        "  t_input=input_value.T\n",
        "  final_derivative = np.dot(t_input, derivative)\n",
        "\n",
        "  #update weights\n",
        "  weight = weight - 0.05 * final_derivative\n",
        "\n",
        "  #update bias\n",
        "  for i in derivative:\n",
        "    bias = bias - 0.05 * i\n",
        "\n",
        "print(weight)\n",
        "print(bias)\n"
      ],
      "metadata": {
        "colab": {
          "base_uri": "https://localhost:8080/"
        },
        "id": "_NjW_KazoouZ",
        "outputId": "0441f8a5-4a28-4d9d-f2d5-8c957f249843"
      },
      "execution_count": 94,
      "outputs": [
        {
          "output_type": "stream",
          "name": "stdout",
          "text": [
            "[[-0.41083034]\n",
            " [11.80234455]]\n",
            "[-5.61173501]\n"
          ]
        }
      ]
    },
    {
      "cell_type": "code",
      "source": [
        "#predictions\n",
        "pred = np.array([0,1])\n",
        "\n",
        "result = np.dot(pred, weight) + bias\n",
        "\n",
        "res = sigmoid_function(result)\n",
        "\n",
        "print(res)"
      ],
      "metadata": {
        "colab": {
          "base_uri": "https://localhost:8080/"
        },
        "id": "6oLQMpqBuluV",
        "outputId": "0bb17168-1fa6-457a-a231-f8c56004e7fa"
      },
      "execution_count": 95,
      "outputs": [
        {
          "output_type": "stream",
          "name": "stdout",
          "text": [
            "[0.99795561]\n"
          ]
        }
      ]
    }
  ]
}